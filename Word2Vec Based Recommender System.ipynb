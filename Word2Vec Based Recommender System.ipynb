{
 "cells": [
  {
   "cell_type": "markdown",
   "id": "cb085f28-3d9a-41b1-bec1-e670d4d03f66",
   "metadata": {
    "tags": []
   },
   "source": [
    "# 1. Importations et initialisations nécessaires"
   ]
  },
  {
   "cell_type": "code",
   "execution_count": 1,
   "id": "bde80f96-1146-477d-b789-b61ffe2aeda2",
   "metadata": {},
   "outputs": [],
   "source": [
    "import zipfile\n",
    "import pandas as pd\n",
    "import gensim, logging\n",
    "from tqdm.notebook import tqdm\n",
    "from utils.read_data import getDF\n",
    "from utils.useful_functions import PATH_DATA\n",
    "from utils.useful_functions import PATH_METADATA\n",
    "from utils.useful_functions import clear_description\n",
    "\n",
    "logging.basicConfig(format='%(asctime)s : %(levelname)s : %(message)s', level=logging.INFO) # Configuration de la journalisation "
   ]
  },
  {
   "cell_type": "markdown",
   "id": "f4e2daa0-5183-4a8d-a876-be4f73193565",
   "metadata": {
    "tags": []
   },
   "source": [
    "# 2. Récupération et visualisation des données"
   ]
  },
  {
   "cell_type": "code",
   "execution_count": 2,
   "id": "8c5a2e85-35bd-4af4-b908-e635aaddf797",
   "metadata": {},
   "outputs": [],
   "source": [
    "# Décompression du fichier dataset.zip\n",
    "with zipfile.ZipFile(PATH_DATA, 'r') as data:\n",
    "    data.extractall()"
   ]
  },
  {
   "cell_type": "code",
   "execution_count": 3,
   "id": "f639894b-4be1-4ac5-917d-540b0b6ba946",
   "metadata": {
    "tags": []
   },
   "outputs": [],
   "source": [
    "# Lecture des données du fichier metadata.json\n",
    "data = getDF(PATH_METADATA)"
   ]
  },
  {
   "cell_type": "code",
   "execution_count": 4,
   "id": "2844273c-9832-474b-9751-d44e4457e8d8",
   "metadata": {
    "tags": []
   },
   "outputs": [
    {
     "data": {
      "text/html": [
       "<style type=\"text/css\">\n",
       "</style>\n",
       "<table id=\"T_199e0_\">\n",
       "  <caption>5 premières lignes du DataFrame data après chargement des données : Dimension = (1655, 5)</caption>\n",
       "  <thead>\n",
       "    <tr>\n",
       "      <th class=\"blank level0\" >&nbsp;</th>\n",
       "      <th class=\"col_heading level0 col0\" >ID</th>\n",
       "      <th class=\"col_heading level0 col1\" >title</th>\n",
       "      <th class=\"col_heading level0 col2\" >slug</th>\n",
       "      <th class=\"col_heading level0 col3\" >category</th>\n",
       "      <th class=\"col_heading level0 col4\" >imPath</th>\n",
       "    </tr>\n",
       "  </thead>\n",
       "  <tbody>\n",
       "    <tr>\n",
       "      <th id=\"T_199e0_level0_row0\" class=\"row_heading level0 row0\" >0</th>\n",
       "      <td id=\"T_199e0_row0_col0\" class=\"data row0 col0\" >7541</td>\n",
       "      <td id=\"T_199e0_row0_col1\" class=\"data row0 col1\" >Christina Gavioli</td>\n",
       "      <td id=\"T_199e0_row0_col2\" class=\"data row0 col2\" >christina-gavioli-3</td>\n",
       "      <td id=\"T_199e0_row0_col3\" class=\"data row0 col3\" >['Fashion Women', 'Women Blouse and Dress']</td>\n",
       "      <td id=\"T_199e0_row0_col4\" class=\"data row0 col4\" >images/Fashion Women/Women Blouse and Dress/CHRISTINA_GAVIOLI.jpg</td>\n",
       "    </tr>\n",
       "    <tr>\n",
       "      <th id=\"T_199e0_level0_row1\" class=\"row_heading level0 row1\" >1</th>\n",
       "      <td id=\"T_199e0_row1_col0\" class=\"data row1 col0\" >7540</td>\n",
       "      <td id=\"T_199e0_row1_col1\" class=\"data row1 col1\" >Sexy Woman</td>\n",
       "      <td id=\"T_199e0_row1_col2\" class=\"data row1 col2\" >sexy-woman-3</td>\n",
       "      <td id=\"T_199e0_row1_col3\" class=\"data row1 col3\" >['Fashion Women', 'Women Blouse and Dress']</td>\n",
       "      <td id=\"T_199e0_row1_col4\" class=\"data row1 col4\" >images/Fashion Women/Women Blouse and Dress/SEXY_WOMAN_MULTICOLORE.jpg</td>\n",
       "    </tr>\n",
       "    <tr>\n",
       "      <th id=\"T_199e0_level0_row2\" class=\"row_heading level0 row2\" >2</th>\n",
       "      <td id=\"T_199e0_row2_col0\" class=\"data row2 col0\" >7539</td>\n",
       "      <td id=\"T_199e0_row2_col1\" class=\"data row2 col1\" >Sexy Woman</td>\n",
       "      <td id=\"T_199e0_row2_col2\" class=\"data row2 col2\" >sexy-woman-2</td>\n",
       "      <td id=\"T_199e0_row2_col3\" class=\"data row2 col3\" >['Fashion Women', 'Women Blouse and Dress']</td>\n",
       "      <td id=\"T_199e0_row2_col4\" class=\"data row2 col4\" >images/Fashion Women/Women Blouse and Dress/SEXY_WOMAN_JAUNE.jpg</td>\n",
       "    </tr>\n",
       "    <tr>\n",
       "      <th id=\"T_199e0_level0_row3\" class=\"row_heading level0 row3\" >3</th>\n",
       "      <td id=\"T_199e0_row3_col0\" class=\"data row3 col0\" >7538</td>\n",
       "      <td id=\"T_199e0_row3_col1\" class=\"data row3 col1\" >Christina Gavioli</td>\n",
       "      <td id=\"T_199e0_row3_col2\" class=\"data row3 col2\" >christina-gavioli-2</td>\n",
       "      <td id=\"T_199e0_row3_col3\" class=\"data row3 col3\" >['Fashion Women', 'Women Blouse and Dress']</td>\n",
       "      <td id=\"T_199e0_row3_col4\" class=\"data row3 col4\" >images/Fashion Women/Women Blouse and Dress/christina_gavioli_bordeau.jpg</td>\n",
       "    </tr>\n",
       "    <tr>\n",
       "      <th id=\"T_199e0_level0_row4\" class=\"row_heading level0 row4\" >4</th>\n",
       "      <td id=\"T_199e0_row4_col0\" class=\"data row4 col0\" >7537</td>\n",
       "      <td id=\"T_199e0_row4_col1\" class=\"data row4 col1\" >Christina Gavioli</td>\n",
       "      <td id=\"T_199e0_row4_col2\" class=\"data row4 col2\" >christina-gavioli</td>\n",
       "      <td id=\"T_199e0_row4_col3\" class=\"data row4 col3\" >['Fashion Women', 'Women Blouse and Dress']</td>\n",
       "      <td id=\"T_199e0_row4_col4\" class=\"data row4 col4\" >images/Fashion Women/Women Blouse and Dress/christina_gavioli_blc_maron.jpg</td>\n",
       "    </tr>\n",
       "  </tbody>\n",
       "</table>\n"
      ],
      "text/plain": [
       "<pandas.io.formats.style.Styler at 0x2759245eac0>"
      ]
     },
     "metadata": {},
     "output_type": "display_data"
    }
   ],
   "source": [
    "# Visualisation des 5 premières lignes du DataFrame data\n",
    "display(\n",
    "    data.head(5).style.format(\"{0}\").set_caption(\"5 premières lignes du DataFrame data après chargement des données : Dimension = \" +\n",
    "                                                          str(data.shape)\n",
    "                                                         )\n",
    ")"
   ]
  },
  {
   "cell_type": "markdown",
   "id": "8fa376ea-29fe-4345-9f07-194aacd0d779",
   "metadata": {},
   "source": [
    "# 3. Prétraitement et visualisation des données"
   ]
  },
  {
   "cell_type": "code",
   "execution_count": 5,
   "id": "bbe541de-50c2-4331-8faa-94e35e925b29",
   "metadata": {
    "tags": []
   },
   "outputs": [],
   "source": [
    "# Supression des colonnes: slug et category du Dataframe data\n",
    "del data['slug']\n",
    "del data['category']"
   ]
  },
  {
   "cell_type": "code",
   "execution_count": 6,
   "id": "b8e1f4f3-ebe1-4224-b9e1-e043ff304c11",
   "metadata": {
    "tags": []
   },
   "outputs": [
    {
     "data": {
      "text/plain": [
       "ID        False\n",
       "title     False\n",
       "imPath    False\n",
       "dtype: bool"
      ]
     },
     "execution_count": 6,
     "metadata": {},
     "output_type": "execute_result"
    }
   ],
   "source": [
    "# Localisation horizontale des valeurs manquantes dans le DataFrame data\n",
    "pd.isnull(data).any(axis=0)"
   ]
  },
  {
   "cell_type": "code",
   "execution_count": 7,
   "id": "28483bc1-84ab-48c1-9305-c86f8274ce13",
   "metadata": {
    "tags": []
   },
   "outputs": [],
   "source": [
    "# Les titres des produits sont utilisés comme descriptions des produits\n",
    "# Prétraitement des descriptions des produits, nous entendons par là :\n",
    "# - Conversion des descriptions en minuscule\n",
    "# - Suppression des caractères de ponctuation\n",
    "# - Tokénisation\n",
    "# - Suppression des mots vides\n",
    "data['tokens_list'] = data['title'].apply(lambda x : clear_description(x))"
   ]
  },
  {
   "cell_type": "code",
   "execution_count": 9,
   "id": "cf119aae-06f2-43a1-8764-c58349fb4d36",
   "metadata": {},
   "outputs": [
    {
     "data": {
      "text/html": [
       "<style type=\"text/css\">\n",
       "</style>\n",
       "<table id=\"T_3476e_\">\n",
       "  <caption>5 premières lignes du DataFrame data prétraité : Dimension = (1655, 4)</caption>\n",
       "  <thead>\n",
       "    <tr>\n",
       "      <th class=\"blank level0\" >&nbsp;</th>\n",
       "      <th class=\"col_heading level0 col0\" >ID</th>\n",
       "      <th class=\"col_heading level0 col1\" >title</th>\n",
       "      <th class=\"col_heading level0 col2\" >imPath</th>\n",
       "      <th class=\"col_heading level0 col3\" >tokens_list</th>\n",
       "    </tr>\n",
       "  </thead>\n",
       "  <tbody>\n",
       "    <tr>\n",
       "      <th id=\"T_3476e_level0_row0\" class=\"row_heading level0 row0\" >0</th>\n",
       "      <td id=\"T_3476e_row0_col0\" class=\"data row0 col0\" >7541</td>\n",
       "      <td id=\"T_3476e_row0_col1\" class=\"data row0 col1\" >Christina Gavioli</td>\n",
       "      <td id=\"T_3476e_row0_col2\" class=\"data row0 col2\" >images/Fashion Women/Women Blouse and Dress/CHRISTINA_GAVIOLI.jpg</td>\n",
       "      <td id=\"T_3476e_row0_col3\" class=\"data row0 col3\" >['christina', 'gavioli']</td>\n",
       "    </tr>\n",
       "    <tr>\n",
       "      <th id=\"T_3476e_level0_row1\" class=\"row_heading level0 row1\" >1</th>\n",
       "      <td id=\"T_3476e_row1_col0\" class=\"data row1 col0\" >7540</td>\n",
       "      <td id=\"T_3476e_row1_col1\" class=\"data row1 col1\" >Sexy Woman</td>\n",
       "      <td id=\"T_3476e_row1_col2\" class=\"data row1 col2\" >images/Fashion Women/Women Blouse and Dress/SEXY_WOMAN_MULTICOLORE.jpg</td>\n",
       "      <td id=\"T_3476e_row1_col3\" class=\"data row1 col3\" >['sexy', 'woman']</td>\n",
       "    </tr>\n",
       "    <tr>\n",
       "      <th id=\"T_3476e_level0_row2\" class=\"row_heading level0 row2\" >2</th>\n",
       "      <td id=\"T_3476e_row2_col0\" class=\"data row2 col0\" >7539</td>\n",
       "      <td id=\"T_3476e_row2_col1\" class=\"data row2 col1\" >Sexy Woman</td>\n",
       "      <td id=\"T_3476e_row2_col2\" class=\"data row2 col2\" >images/Fashion Women/Women Blouse and Dress/SEXY_WOMAN_JAUNE.jpg</td>\n",
       "      <td id=\"T_3476e_row2_col3\" class=\"data row2 col3\" >['sexy', 'woman']</td>\n",
       "    </tr>\n",
       "    <tr>\n",
       "      <th id=\"T_3476e_level0_row3\" class=\"row_heading level0 row3\" >3</th>\n",
       "      <td id=\"T_3476e_row3_col0\" class=\"data row3 col0\" >7538</td>\n",
       "      <td id=\"T_3476e_row3_col1\" class=\"data row3 col1\" >Christina Gavioli</td>\n",
       "      <td id=\"T_3476e_row3_col2\" class=\"data row3 col2\" >images/Fashion Women/Women Blouse and Dress/christina_gavioli_bordeau.jpg</td>\n",
       "      <td id=\"T_3476e_row3_col3\" class=\"data row3 col3\" >['christina', 'gavioli']</td>\n",
       "    </tr>\n",
       "    <tr>\n",
       "      <th id=\"T_3476e_level0_row4\" class=\"row_heading level0 row4\" >4</th>\n",
       "      <td id=\"T_3476e_row4_col0\" class=\"data row4 col0\" >7537</td>\n",
       "      <td id=\"T_3476e_row4_col1\" class=\"data row4 col1\" >Christina Gavioli</td>\n",
       "      <td id=\"T_3476e_row4_col2\" class=\"data row4 col2\" >images/Fashion Women/Women Blouse and Dress/christina_gavioli_blc_maron.jpg</td>\n",
       "      <td id=\"T_3476e_row4_col3\" class=\"data row4 col3\" >['christina', 'gavioli']</td>\n",
       "    </tr>\n",
       "  </tbody>\n",
       "</table>\n"
      ],
      "text/plain": [
       "<pandas.io.formats.style.Styler at 0x275935b7fa0>"
      ]
     },
     "metadata": {},
     "output_type": "display_data"
    }
   ],
   "source": [
    "# Visualisation des 5 premières lignes du DataFrame data\n",
    "display(\n",
    "    data.head(5).style.format(\"{0}\").set_caption(\"5 premières lignes du DataFrame data prétraité : Dimension = \" +\n",
    "                                                          str(data.shape)\n",
    "                                                         )\n",
    ")"
   ]
  },
  {
   "cell_type": "markdown",
   "id": "0458f43b-cf12-4f19-aad8-be599c34b8f6",
   "metadata": {},
   "source": [
    "# 4. Apprentissage des words embeddings via le modèle Skip-Gram"
   ]
  },
  {
   "cell_type": "code",
   "execution_count": 10,
   "id": "0e66b9e6-917a-40cb-8aae-c5379237275f",
   "metadata": {
    "tags": []
   },
   "outputs": [
    {
     "name": "stderr",
     "output_type": "stream",
     "text": [
      "2022-04-03 08:00:07,267 : INFO : collecting all words and their counts\n",
      "2022-04-03 08:00:07,277 : INFO : PROGRESS: at sentence #0, processed 0 words, keeping 0 word types\n",
      "2022-04-03 08:00:07,295 : INFO : collected 1468 word types from a corpus of 7758 raw words and 1655 sentences\n",
      "2022-04-03 08:00:07,303 : INFO : Creating a fresh vocabulary\n",
      "2022-04-03 08:00:07,363 : INFO : Word2Vec lifecycle event {'msg': 'effective_min_count=1 retains 1468 unique words (100.0%% of original 1468, drops 0)', 'datetime': '2022-04-03T08:00:07.363459', 'gensim': '4.1.2', 'python': '3.9.7 (default, Sep 16 2021, 16:59:28) [MSC v.1916 64 bit (AMD64)]', 'platform': 'Windows-10-10.0.19043-SP0', 'event': 'prepare_vocab'}\n",
      "2022-04-03 08:00:07,378 : INFO : Word2Vec lifecycle event {'msg': 'effective_min_count=1 leaves 7758 word corpus (100.0%% of original 7758, drops 0)', 'datetime': '2022-04-03T08:00:07.378449', 'gensim': '4.1.2', 'python': '3.9.7 (default, Sep 16 2021, 16:59:28) [MSC v.1916 64 bit (AMD64)]', 'platform': 'Windows-10-10.0.19043-SP0', 'event': 'prepare_vocab'}\n",
      "2022-04-03 08:00:07,463 : INFO : deleting the raw counts dictionary of 1468 items\n",
      "2022-04-03 08:00:07,466 : INFO : sample=0.001 downsamples 77 most-common words\n",
      "2022-04-03 08:00:07,469 : INFO : Word2Vec lifecycle event {'msg': 'downsampling leaves estimated 5600.095817228486 word corpus (72.2%% of prior 7758)', 'datetime': '2022-04-03T08:00:07.469393', 'gensim': '4.1.2', 'python': '3.9.7 (default, Sep 16 2021, 16:59:28) [MSC v.1916 64 bit (AMD64)]', 'platform': 'Windows-10-10.0.19043-SP0', 'event': 'prepare_vocab'}\n",
      "2022-04-03 08:00:07,667 : INFO : estimated required memory for 1468 words and 300 dimensions: 4257200 bytes\n",
      "2022-04-03 08:00:07,667 : INFO : resetting layer weights\n",
      "2022-04-03 08:00:07,726 : INFO : Word2Vec lifecycle event {'update': False, 'trim_rule': 'None', 'datetime': '2022-04-03T08:00:07.726642', 'gensim': '4.1.2', 'python': '3.9.7 (default, Sep 16 2021, 16:59:28) [MSC v.1916 64 bit (AMD64)]', 'platform': 'Windows-10-10.0.19043-SP0', 'event': 'build_vocab'}\n",
      "2022-04-03 08:00:07,728 : INFO : Word2Vec lifecycle event {'msg': 'training model with 4 workers on 1468 vocabulary and 300 features, using sg=1 hs=0 sample=0.001 negative=5 window=5 shrink_windows=True', 'datetime': '2022-04-03T08:00:07.728643', 'gensim': '4.1.2', 'python': '3.9.7 (default, Sep 16 2021, 16:59:28) [MSC v.1916 64 bit (AMD64)]', 'platform': 'Windows-10-10.0.19043-SP0', 'event': 'train'}\n",
      "2022-04-03 08:00:07,837 : INFO : worker thread finished; awaiting finish of 3 more threads\n",
      "2022-04-03 08:00:07,840 : INFO : worker thread finished; awaiting finish of 2 more threads\n",
      "2022-04-03 08:00:07,842 : INFO : worker thread finished; awaiting finish of 1 more threads\n",
      "2022-04-03 08:00:08,018 : INFO : worker thread finished; awaiting finish of 0 more threads\n",
      "2022-04-03 08:00:08,021 : INFO : EPOCH - 1 : training on 7758 raw words (5544 effective words) took 0.3s, 21397 effective words/s\n",
      "2022-04-03 08:00:08,065 : INFO : worker thread finished; awaiting finish of 3 more threads\n",
      "2022-04-03 08:00:08,067 : INFO : worker thread finished; awaiting finish of 2 more threads\n",
      "2022-04-03 08:00:08,073 : INFO : worker thread finished; awaiting finish of 1 more threads\n",
      "2022-04-03 08:00:08,272 : INFO : worker thread finished; awaiting finish of 0 more threads\n",
      "2022-04-03 08:00:08,274 : INFO : EPOCH - 2 : training on 7758 raw words (5596 effective words) took 0.2s, 24559 effective words/s\n",
      "2022-04-03 08:00:08,326 : INFO : worker thread finished; awaiting finish of 3 more threads\n",
      "2022-04-03 08:00:08,335 : INFO : worker thread finished; awaiting finish of 2 more threads\n",
      "2022-04-03 08:00:08,341 : INFO : worker thread finished; awaiting finish of 1 more threads\n",
      "2022-04-03 08:00:08,507 : INFO : worker thread finished; awaiting finish of 0 more threads\n",
      "2022-04-03 08:00:08,511 : INFO : EPOCH - 3 : training on 7758 raw words (5579 effective words) took 0.2s, 28091 effective words/s\n",
      "2022-04-03 08:00:08,558 : INFO : worker thread finished; awaiting finish of 3 more threads\n",
      "2022-04-03 08:00:08,560 : INFO : worker thread finished; awaiting finish of 2 more threads\n",
      "2022-04-03 08:00:08,566 : INFO : worker thread finished; awaiting finish of 1 more threads\n",
      "2022-04-03 08:00:08,750 : INFO : worker thread finished; awaiting finish of 0 more threads\n",
      "2022-04-03 08:00:08,757 : INFO : EPOCH - 4 : training on 7758 raw words (5576 effective words) took 0.2s, 26301 effective words/s\n",
      "2022-04-03 08:00:08,801 : INFO : worker thread finished; awaiting finish of 3 more threads\n",
      "2022-04-03 08:00:08,809 : INFO : worker thread finished; awaiting finish of 2 more threads\n",
      "2022-04-03 08:00:08,814 : INFO : worker thread finished; awaiting finish of 1 more threads\n",
      "2022-04-03 08:00:08,961 : INFO : worker thread finished; awaiting finish of 0 more threads\n",
      "2022-04-03 08:00:08,964 : INFO : EPOCH - 5 : training on 7758 raw words (5647 effective words) took 0.2s, 32411 effective words/s\n",
      "2022-04-03 08:00:09,005 : INFO : worker thread finished; awaiting finish of 3 more threads\n",
      "2022-04-03 08:00:09,011 : INFO : worker thread finished; awaiting finish of 2 more threads\n",
      "2022-04-03 08:00:09,020 : INFO : worker thread finished; awaiting finish of 1 more threads\n",
      "2022-04-03 08:00:09,228 : INFO : worker thread finished; awaiting finish of 0 more threads\n",
      "2022-04-03 08:00:09,231 : INFO : EPOCH - 6 : training on 7758 raw words (5606 effective words) took 0.2s, 23433 effective words/s\n",
      "2022-04-03 08:00:09,277 : INFO : worker thread finished; awaiting finish of 3 more threads\n",
      "2022-04-03 08:00:09,279 : INFO : worker thread finished; awaiting finish of 2 more threads\n",
      "2022-04-03 08:00:09,283 : INFO : worker thread finished; awaiting finish of 1 more threads\n",
      "2022-04-03 08:00:09,430 : INFO : worker thread finished; awaiting finish of 0 more threads\n",
      "2022-04-03 08:00:09,431 : INFO : EPOCH - 7 : training on 7758 raw words (5587 effective words) took 0.2s, 33436 effective words/s\n",
      "2022-04-03 08:00:09,462 : INFO : worker thread finished; awaiting finish of 3 more threads\n",
      "2022-04-03 08:00:09,468 : INFO : worker thread finished; awaiting finish of 2 more threads\n",
      "2022-04-03 08:00:09,471 : INFO : worker thread finished; awaiting finish of 1 more threads\n",
      "2022-04-03 08:00:09,618 : INFO : worker thread finished; awaiting finish of 0 more threads\n",
      "2022-04-03 08:00:09,620 : INFO : EPOCH - 8 : training on 7758 raw words (5608 effective words) took 0.2s, 33221 effective words/s\n",
      "2022-04-03 08:00:09,654 : INFO : worker thread finished; awaiting finish of 3 more threads\n",
      "2022-04-03 08:00:09,657 : INFO : worker thread finished; awaiting finish of 2 more threads\n",
      "2022-04-03 08:00:09,660 : INFO : worker thread finished; awaiting finish of 1 more threads\n",
      "2022-04-03 08:00:09,852 : INFO : worker thread finished; awaiting finish of 0 more threads\n",
      "2022-04-03 08:00:09,853 : INFO : EPOCH - 9 : training on 7758 raw words (5648 effective words) took 0.2s, 26173 effective words/s\n",
      "2022-04-03 08:00:10,015 : INFO : worker thread finished; awaiting finish of 3 more threads\n",
      "2022-04-03 08:00:10,023 : INFO : worker thread finished; awaiting finish of 2 more threads\n",
      "2022-04-03 08:00:10,035 : INFO : worker thread finished; awaiting finish of 1 more threads\n",
      "2022-04-03 08:00:10,171 : INFO : worker thread finished; awaiting finish of 0 more threads\n",
      "2022-04-03 08:00:10,175 : INFO : EPOCH - 10 : training on 7758 raw words (5545 effective words) took 0.2s, 30716 effective words/s\n",
      "2022-04-03 08:00:10,182 : INFO : Word2Vec lifecycle event {'msg': 'training on 77580 raw words (55936 effective words) took 2.4s, 22848 effective words/s', 'datetime': '2022-04-03T08:00:10.182744', 'gensim': '4.1.2', 'python': '3.9.7 (default, Sep 16 2021, 16:59:28) [MSC v.1916 64 bit (AMD64)]', 'platform': 'Windows-10-10.0.19043-SP0', 'event': 'train'}\n",
      "2022-04-03 08:00:10,189 : INFO : Word2Vec lifecycle event {'params': 'Word2Vec(vocab=1468, vector_size=300, alpha=0.025)', 'datetime': '2022-04-03T08:00:10.189739', 'gensim': '4.1.2', 'python': '3.9.7 (default, Sep 16 2021, 16:59:28) [MSC v.1916 64 bit (AMD64)]', 'platform': 'Windows-10-10.0.19043-SP0', 'event': 'created'}\n"
     ]
    }
   ],
   "source": [
    "# Initialisation et entrainement du modèle\n",
    "sentences = list(data['tokens_list'])\n",
    "model = gensim.models.Word2Vec(sentences=sentences, vector_size=300, window=5, min_count=1, workers=4, sg=1, epochs=10)"
   ]
  },
  {
   "cell_type": "code",
   "execution_count": null,
   "id": "c55d339a-57ca-4a99-9c15-b2f01f70e8eb",
   "metadata": {},
   "outputs": [],
   "source": []
  }
 ],
 "metadata": {
  "kernelspec": {
   "display_name": "Python 3 (ipykernel)",
   "language": "python",
   "name": "python3"
  },
  "language_info": {
   "codemirror_mode": {
    "name": "ipython",
    "version": 3
   },
   "file_extension": ".py",
   "mimetype": "text/x-python",
   "name": "python",
   "nbconvert_exporter": "python",
   "pygments_lexer": "ipython3",
   "version": "3.9.7"
  }
 },
 "nbformat": 4,
 "nbformat_minor": 5
}
