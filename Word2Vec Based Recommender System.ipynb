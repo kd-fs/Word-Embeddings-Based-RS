{
 "cells": [
  {
   "cell_type": "markdown",
   "id": "cb085f28-3d9a-41b1-bec1-e670d4d03f66",
   "metadata": {
    "tags": []
   },
   "source": [
    "# 1. Importations et initialisations nécessaires"
   ]
  },
  {
   "cell_type": "code",
   "execution_count": 1,
   "id": "bde80f96-1146-477d-b789-b61ffe2aeda2",
   "metadata": {},
   "outputs": [],
   "source": [
    "import zipfile\n",
    "import pandas as pd\n",
    "import gensim, logging\n",
    "from tqdm.notebook import tqdm\n",
    "from utils.read_data import getDF\n",
    "from IPython.core.display import HTML\n",
    "from utils.useful_functions import PATH_DATA\n",
    "from utils.useful_functions import sim_cosine\n",
    "from utils.useful_functions import PATH_METADATA\n",
    "from utils.useful_functions import clear_description\n",
    "from utils.useful_functions import top_n_recommendation\n",
    "from utils.useful_functions import imUrl_to_image_html_width100\n",
    "\n",
    "logging.basicConfig(format='%(asctime)s : %(levelname)s : %(message)s', level=logging.INFO) # Configuration de la journalisation "
   ]
  },
  {
   "cell_type": "markdown",
   "id": "f4e2daa0-5183-4a8d-a876-be4f73193565",
   "metadata": {
    "tags": []
   },
   "source": [
    "# 2. Récupération et visualisation des données"
   ]
  },
  {
   "cell_type": "code",
   "execution_count": 2,
   "id": "8c5a2e85-35bd-4af4-b908-e635aaddf797",
   "metadata": {},
   "outputs": [],
   "source": [
    "# Décompression du fichier dataset.zip\n",
    "with zipfile.ZipFile(PATH_DATA, 'r') as data:\n",
    "    data.extractall()"
   ]
  },
  {
   "cell_type": "code",
   "execution_count": 3,
   "id": "f639894b-4be1-4ac5-917d-540b0b6ba946",
   "metadata": {
    "tags": []
   },
   "outputs": [],
   "source": [
    "# Lecture des données du fichier metadata.json\n",
    "data = getDF(PATH_METADATA)"
   ]
  },
  {
   "cell_type": "code",
   "execution_count": 4,
   "id": "2844273c-9832-474b-9751-d44e4457e8d8",
   "metadata": {
    "tags": []
   },
   "outputs": [
    {
     "data": {
      "text/html": [
       "<style type=\"text/css\">\n",
       "</style>\n",
       "<table id=\"T_e7b2a_\">\n",
       "  <caption>5 premières lignes du DataFrame data après chargement des données : Dimension = (1655, 5)</caption>\n",
       "  <thead>\n",
       "    <tr>\n",
       "      <th class=\"blank level0\" >&nbsp;</th>\n",
       "      <th class=\"col_heading level0 col0\" >ID</th>\n",
       "      <th class=\"col_heading level0 col1\" >title</th>\n",
       "      <th class=\"col_heading level0 col2\" >slug</th>\n",
       "      <th class=\"col_heading level0 col3\" >category</th>\n",
       "      <th class=\"col_heading level0 col4\" >imPath</th>\n",
       "    </tr>\n",
       "  </thead>\n",
       "  <tbody>\n",
       "    <tr>\n",
       "      <th id=\"T_e7b2a_level0_row0\" class=\"row_heading level0 row0\" >0</th>\n",
       "      <td id=\"T_e7b2a_row0_col0\" class=\"data row0 col0\" >7541</td>\n",
       "      <td id=\"T_e7b2a_row0_col1\" class=\"data row0 col1\" >Christina Gavioli</td>\n",
       "      <td id=\"T_e7b2a_row0_col2\" class=\"data row0 col2\" >christina-gavioli-3</td>\n",
       "      <td id=\"T_e7b2a_row0_col3\" class=\"data row0 col3\" >['Fashion Women', 'Women Blouse and Dress']</td>\n",
       "      <td id=\"T_e7b2a_row0_col4\" class=\"data row0 col4\" >images/Fashion Women/Women Blouse and Dress/CHRISTINA_GAVIOLI.jpg</td>\n",
       "    </tr>\n",
       "    <tr>\n",
       "      <th id=\"T_e7b2a_level0_row1\" class=\"row_heading level0 row1\" >1</th>\n",
       "      <td id=\"T_e7b2a_row1_col0\" class=\"data row1 col0\" >7540</td>\n",
       "      <td id=\"T_e7b2a_row1_col1\" class=\"data row1 col1\" >Sexy Woman</td>\n",
       "      <td id=\"T_e7b2a_row1_col2\" class=\"data row1 col2\" >sexy-woman-3</td>\n",
       "      <td id=\"T_e7b2a_row1_col3\" class=\"data row1 col3\" >['Fashion Women', 'Women Blouse and Dress']</td>\n",
       "      <td id=\"T_e7b2a_row1_col4\" class=\"data row1 col4\" >images/Fashion Women/Women Blouse and Dress/SEXY_WOMAN_MULTICOLORE.jpg</td>\n",
       "    </tr>\n",
       "    <tr>\n",
       "      <th id=\"T_e7b2a_level0_row2\" class=\"row_heading level0 row2\" >2</th>\n",
       "      <td id=\"T_e7b2a_row2_col0\" class=\"data row2 col0\" >7539</td>\n",
       "      <td id=\"T_e7b2a_row2_col1\" class=\"data row2 col1\" >Sexy Woman</td>\n",
       "      <td id=\"T_e7b2a_row2_col2\" class=\"data row2 col2\" >sexy-woman-2</td>\n",
       "      <td id=\"T_e7b2a_row2_col3\" class=\"data row2 col3\" >['Fashion Women', 'Women Blouse and Dress']</td>\n",
       "      <td id=\"T_e7b2a_row2_col4\" class=\"data row2 col4\" >images/Fashion Women/Women Blouse and Dress/SEXY_WOMAN_JAUNE.jpg</td>\n",
       "    </tr>\n",
       "    <tr>\n",
       "      <th id=\"T_e7b2a_level0_row3\" class=\"row_heading level0 row3\" >3</th>\n",
       "      <td id=\"T_e7b2a_row3_col0\" class=\"data row3 col0\" >7538</td>\n",
       "      <td id=\"T_e7b2a_row3_col1\" class=\"data row3 col1\" >Christina Gavioli</td>\n",
       "      <td id=\"T_e7b2a_row3_col2\" class=\"data row3 col2\" >christina-gavioli-2</td>\n",
       "      <td id=\"T_e7b2a_row3_col3\" class=\"data row3 col3\" >['Fashion Women', 'Women Blouse and Dress']</td>\n",
       "      <td id=\"T_e7b2a_row3_col4\" class=\"data row3 col4\" >images/Fashion Women/Women Blouse and Dress/christina_gavioli_bordeau.jpg</td>\n",
       "    </tr>\n",
       "    <tr>\n",
       "      <th id=\"T_e7b2a_level0_row4\" class=\"row_heading level0 row4\" >4</th>\n",
       "      <td id=\"T_e7b2a_row4_col0\" class=\"data row4 col0\" >7537</td>\n",
       "      <td id=\"T_e7b2a_row4_col1\" class=\"data row4 col1\" >Christina Gavioli</td>\n",
       "      <td id=\"T_e7b2a_row4_col2\" class=\"data row4 col2\" >christina-gavioli</td>\n",
       "      <td id=\"T_e7b2a_row4_col3\" class=\"data row4 col3\" >['Fashion Women', 'Women Blouse and Dress']</td>\n",
       "      <td id=\"T_e7b2a_row4_col4\" class=\"data row4 col4\" >images/Fashion Women/Women Blouse and Dress/christina_gavioli_blc_maron.jpg</td>\n",
       "    </tr>\n",
       "  </tbody>\n",
       "</table>\n"
      ],
      "text/plain": [
       "<pandas.io.formats.style.Styler at 0x2c945ff03a0>"
      ]
     },
     "metadata": {},
     "output_type": "display_data"
    }
   ],
   "source": [
    "# Visualisation des 5 premières lignes du DataFrame data\n",
    "display(\n",
    "    data.head(5).style.format(\"{0}\").set_caption(\"5 premières lignes du DataFrame data après chargement des données : Dimension = \" +\n",
    "                                                          str(data.shape)\n",
    "                                                         )\n",
    ")"
   ]
  },
  {
   "cell_type": "markdown",
   "id": "8fa376ea-29fe-4345-9f07-194aacd0d779",
   "metadata": {},
   "source": [
    "# 3. Prétraitement et visualisation des données"
   ]
  },
  {
   "cell_type": "code",
   "execution_count": 5,
   "id": "bbe541de-50c2-4331-8faa-94e35e925b29",
   "metadata": {
    "tags": []
   },
   "outputs": [],
   "source": [
    "# Supression des colonnes: slug et category du Dataframe data\n",
    "del data['slug']\n",
    "del data['category']"
   ]
  },
  {
   "cell_type": "code",
   "execution_count": 6,
   "id": "b8e1f4f3-ebe1-4224-b9e1-e043ff304c11",
   "metadata": {
    "tags": []
   },
   "outputs": [
    {
     "data": {
      "text/plain": [
       "ID        False\n",
       "title     False\n",
       "imPath    False\n",
       "dtype: bool"
      ]
     },
     "execution_count": 6,
     "metadata": {},
     "output_type": "execute_result"
    }
   ],
   "source": [
    "# Localisation horizontale des valeurs manquantes dans le DataFrame data\n",
    "pd.isnull(data).any(axis=0)"
   ]
  },
  {
   "cell_type": "code",
   "execution_count": 7,
   "id": "28483bc1-84ab-48c1-9305-c86f8274ce13",
   "metadata": {
    "tags": []
   },
   "outputs": [],
   "source": [
    "# Les titres des produits sont utilisés comme descriptions des produits\n",
    "# Prétraitement des descriptions des produits, nous entendons par là :\n",
    "# - Conversion des descriptions en minuscule\n",
    "# - Suppression des caractères de ponctuation\n",
    "# - Tokénisation\n",
    "# - Suppression des mots vides\n",
    "data['tokens_list'] = data['title'].apply(lambda x : clear_description(x))"
   ]
  },
  {
   "cell_type": "code",
   "execution_count": 8,
   "id": "cf119aae-06f2-43a1-8764-c58349fb4d36",
   "metadata": {},
   "outputs": [
    {
     "data": {
      "text/html": [
       "<style type=\"text/css\">\n",
       "</style>\n",
       "<table id=\"T_3722b_\">\n",
       "  <caption>5 premières lignes du DataFrame data prétraité : Dimension = (1655, 4)</caption>\n",
       "  <thead>\n",
       "    <tr>\n",
       "      <th class=\"blank level0\" >&nbsp;</th>\n",
       "      <th class=\"col_heading level0 col0\" >ID</th>\n",
       "      <th class=\"col_heading level0 col1\" >title</th>\n",
       "      <th class=\"col_heading level0 col2\" >imPath</th>\n",
       "      <th class=\"col_heading level0 col3\" >tokens_list</th>\n",
       "    </tr>\n",
       "  </thead>\n",
       "  <tbody>\n",
       "    <tr>\n",
       "      <th id=\"T_3722b_level0_row0\" class=\"row_heading level0 row0\" >0</th>\n",
       "      <td id=\"T_3722b_row0_col0\" class=\"data row0 col0\" >7541</td>\n",
       "      <td id=\"T_3722b_row0_col1\" class=\"data row0 col1\" >Christina Gavioli</td>\n",
       "      <td id=\"T_3722b_row0_col2\" class=\"data row0 col2\" >images/Fashion Women/Women Blouse and Dress/CHRISTINA_GAVIOLI.jpg</td>\n",
       "      <td id=\"T_3722b_row0_col3\" class=\"data row0 col3\" >['christina', 'gavioli']</td>\n",
       "    </tr>\n",
       "    <tr>\n",
       "      <th id=\"T_3722b_level0_row1\" class=\"row_heading level0 row1\" >1</th>\n",
       "      <td id=\"T_3722b_row1_col0\" class=\"data row1 col0\" >7540</td>\n",
       "      <td id=\"T_3722b_row1_col1\" class=\"data row1 col1\" >Sexy Woman</td>\n",
       "      <td id=\"T_3722b_row1_col2\" class=\"data row1 col2\" >images/Fashion Women/Women Blouse and Dress/SEXY_WOMAN_MULTICOLORE.jpg</td>\n",
       "      <td id=\"T_3722b_row1_col3\" class=\"data row1 col3\" >['sexy', 'woman']</td>\n",
       "    </tr>\n",
       "    <tr>\n",
       "      <th id=\"T_3722b_level0_row2\" class=\"row_heading level0 row2\" >2</th>\n",
       "      <td id=\"T_3722b_row2_col0\" class=\"data row2 col0\" >7539</td>\n",
       "      <td id=\"T_3722b_row2_col1\" class=\"data row2 col1\" >Sexy Woman</td>\n",
       "      <td id=\"T_3722b_row2_col2\" class=\"data row2 col2\" >images/Fashion Women/Women Blouse and Dress/SEXY_WOMAN_JAUNE.jpg</td>\n",
       "      <td id=\"T_3722b_row2_col3\" class=\"data row2 col3\" >['sexy', 'woman']</td>\n",
       "    </tr>\n",
       "    <tr>\n",
       "      <th id=\"T_3722b_level0_row3\" class=\"row_heading level0 row3\" >3</th>\n",
       "      <td id=\"T_3722b_row3_col0\" class=\"data row3 col0\" >7538</td>\n",
       "      <td id=\"T_3722b_row3_col1\" class=\"data row3 col1\" >Christina Gavioli</td>\n",
       "      <td id=\"T_3722b_row3_col2\" class=\"data row3 col2\" >images/Fashion Women/Women Blouse and Dress/christina_gavioli_bordeau.jpg</td>\n",
       "      <td id=\"T_3722b_row3_col3\" class=\"data row3 col3\" >['christina', 'gavioli']</td>\n",
       "    </tr>\n",
       "    <tr>\n",
       "      <th id=\"T_3722b_level0_row4\" class=\"row_heading level0 row4\" >4</th>\n",
       "      <td id=\"T_3722b_row4_col0\" class=\"data row4 col0\" >7537</td>\n",
       "      <td id=\"T_3722b_row4_col1\" class=\"data row4 col1\" >Christina Gavioli</td>\n",
       "      <td id=\"T_3722b_row4_col2\" class=\"data row4 col2\" >images/Fashion Women/Women Blouse and Dress/christina_gavioli_blc_maron.jpg</td>\n",
       "      <td id=\"T_3722b_row4_col3\" class=\"data row4 col3\" >['christina', 'gavioli']</td>\n",
       "    </tr>\n",
       "  </tbody>\n",
       "</table>\n"
      ],
      "text/plain": [
       "<pandas.io.formats.style.Styler at 0x2c947017970>"
      ]
     },
     "metadata": {},
     "output_type": "display_data"
    }
   ],
   "source": [
    "# Visualisation des 5 premières lignes du DataFrame data\n",
    "display(\n",
    "    data.head(5).style.format(\"{0}\").set_caption(\"5 premières lignes du DataFrame data prétraité : Dimension = \" +\n",
    "                                                          str(data.shape)\n",
    "                                                         )\n",
    ")"
   ]
  },
  {
   "cell_type": "markdown",
   "id": "0458f43b-cf12-4f19-aad8-be599c34b8f6",
   "metadata": {},
   "source": [
    "# 4. Apprentissage des words embeddings via le modèle Skip-Gram"
   ]
  },
  {
   "cell_type": "code",
   "execution_count": 9,
   "id": "0e66b9e6-917a-40cb-8aae-c5379237275f",
   "metadata": {
    "tags": []
   },
   "outputs": [
    {
     "name": "stderr",
     "output_type": "stream",
     "text": [
      "2022-04-03 11:37:32,937 : INFO : collecting all words and their counts\n",
      "2022-04-03 11:37:32,953 : INFO : PROGRESS: at sentence #0, processed 0 words, keeping 0 word types\n",
      "2022-04-03 11:37:32,965 : INFO : collected 1468 word types from a corpus of 7758 raw words and 1655 sentences\n",
      "2022-04-03 11:37:32,968 : INFO : Creating a fresh vocabulary\n",
      "2022-04-03 11:37:33,003 : INFO : Word2Vec lifecycle event {'msg': 'effective_min_count=1 retains 1468 unique words (100.0%% of original 1468, drops 0)', 'datetime': '2022-04-03T11:37:33.003605', 'gensim': '4.1.2', 'python': '3.9.7 (default, Sep 16 2021, 16:59:28) [MSC v.1916 64 bit (AMD64)]', 'platform': 'Windows-10-10.0.19043-SP0', 'event': 'prepare_vocab'}\n",
      "2022-04-03 11:37:33,007 : INFO : Word2Vec lifecycle event {'msg': 'effective_min_count=1 leaves 7758 word corpus (100.0%% of original 7758, drops 0)', 'datetime': '2022-04-03T11:37:33.007605', 'gensim': '4.1.2', 'python': '3.9.7 (default, Sep 16 2021, 16:59:28) [MSC v.1916 64 bit (AMD64)]', 'platform': 'Windows-10-10.0.19043-SP0', 'event': 'prepare_vocab'}\n",
      "2022-04-03 11:37:33,079 : INFO : deleting the raw counts dictionary of 1468 items\n",
      "2022-04-03 11:37:33,082 : INFO : sample=0.001 downsamples 77 most-common words\n",
      "2022-04-03 11:37:33,085 : INFO : Word2Vec lifecycle event {'msg': 'downsampling leaves estimated 5600.095817228486 word corpus (72.2%% of prior 7758)', 'datetime': '2022-04-03T11:37:33.085554', 'gensim': '4.1.2', 'python': '3.9.7 (default, Sep 16 2021, 16:59:28) [MSC v.1916 64 bit (AMD64)]', 'platform': 'Windows-10-10.0.19043-SP0', 'event': 'prepare_vocab'}\n",
      "2022-04-03 11:37:33,192 : INFO : estimated required memory for 1468 words and 300 dimensions: 4257200 bytes\n",
      "2022-04-03 11:37:33,194 : INFO : resetting layer weights\n",
      "2022-04-03 11:37:33,207 : INFO : Word2Vec lifecycle event {'update': False, 'trim_rule': 'None', 'datetime': '2022-04-03T11:37:33.207479', 'gensim': '4.1.2', 'python': '3.9.7 (default, Sep 16 2021, 16:59:28) [MSC v.1916 64 bit (AMD64)]', 'platform': 'Windows-10-10.0.19043-SP0', 'event': 'build_vocab'}\n",
      "2022-04-03 11:37:33,210 : INFO : Word2Vec lifecycle event {'msg': 'training model with 4 workers on 1468 vocabulary and 300 features, using sg=1 hs=0 sample=0.001 negative=5 window=5 shrink_windows=True', 'datetime': '2022-04-03T11:37:33.209479', 'gensim': '4.1.2', 'python': '3.9.7 (default, Sep 16 2021, 16:59:28) [MSC v.1916 64 bit (AMD64)]', 'platform': 'Windows-10-10.0.19043-SP0', 'event': 'train'}\n",
      "2022-04-03 11:37:33,243 : INFO : worker thread finished; awaiting finish of 3 more threads\n",
      "2022-04-03 11:37:33,253 : INFO : worker thread finished; awaiting finish of 2 more threads\n",
      "2022-04-03 11:37:33,260 : INFO : worker thread finished; awaiting finish of 1 more threads\n",
      "2022-04-03 11:37:33,360 : INFO : worker thread finished; awaiting finish of 0 more threads\n",
      "2022-04-03 11:37:33,363 : INFO : EPOCH - 1 : training on 7758 raw words (5544 effective words) took 0.1s, 43049 effective words/s\n",
      "2022-04-03 11:37:33,398 : INFO : worker thread finished; awaiting finish of 3 more threads\n",
      "2022-04-03 11:37:33,404 : INFO : worker thread finished; awaiting finish of 2 more threads\n",
      "2022-04-03 11:37:33,407 : INFO : worker thread finished; awaiting finish of 1 more threads\n",
      "2022-04-03 11:37:33,572 : INFO : worker thread finished; awaiting finish of 0 more threads\n",
      "2022-04-03 11:37:33,574 : INFO : EPOCH - 2 : training on 7758 raw words (5596 effective words) took 0.2s, 30634 effective words/s\n",
      "2022-04-03 11:37:33,618 : INFO : worker thread finished; awaiting finish of 3 more threads\n",
      "2022-04-03 11:37:33,623 : INFO : worker thread finished; awaiting finish of 2 more threads\n",
      "2022-04-03 11:37:33,627 : INFO : worker thread finished; awaiting finish of 1 more threads\n",
      "2022-04-03 11:37:33,735 : INFO : worker thread finished; awaiting finish of 0 more threads\n",
      "2022-04-03 11:37:33,736 : INFO : EPOCH - 3 : training on 7758 raw words (5579 effective words) took 0.1s, 42215 effective words/s\n",
      "2022-04-03 11:37:33,769 : INFO : worker thread finished; awaiting finish of 3 more threads\n",
      "2022-04-03 11:37:33,773 : INFO : worker thread finished; awaiting finish of 2 more threads\n",
      "2022-04-03 11:37:33,778 : INFO : worker thread finished; awaiting finish of 1 more threads\n",
      "2022-04-03 11:37:33,896 : INFO : worker thread finished; awaiting finish of 0 more threads\n",
      "2022-04-03 11:37:33,898 : INFO : EPOCH - 4 : training on 7758 raw words (5576 effective words) took 0.1s, 40878 effective words/s\n",
      "2022-04-03 11:37:33,923 : INFO : worker thread finished; awaiting finish of 3 more threads\n",
      "2022-04-03 11:37:33,936 : INFO : worker thread finished; awaiting finish of 2 more threads\n",
      "2022-04-03 11:37:33,940 : INFO : worker thread finished; awaiting finish of 1 more threads\n",
      "2022-04-03 11:37:34,034 : INFO : worker thread finished; awaiting finish of 0 more threads\n",
      "2022-04-03 11:37:34,037 : INFO : EPOCH - 5 : training on 7758 raw words (5647 effective words) took 0.1s, 46811 effective words/s\n",
      "2022-04-03 11:37:34,067 : INFO : worker thread finished; awaiting finish of 3 more threads\n",
      "2022-04-03 11:37:34,070 : INFO : worker thread finished; awaiting finish of 2 more threads\n",
      "2022-04-03 11:37:34,074 : INFO : worker thread finished; awaiting finish of 1 more threads\n",
      "2022-04-03 11:37:34,180 : INFO : worker thread finished; awaiting finish of 0 more threads\n",
      "2022-04-03 11:37:34,183 : INFO : EPOCH - 6 : training on 7758 raw words (5606 effective words) took 0.1s, 45000 effective words/s\n",
      "2022-04-03 11:37:34,212 : INFO : worker thread finished; awaiting finish of 3 more threads\n",
      "2022-04-03 11:37:34,220 : INFO : worker thread finished; awaiting finish of 2 more threads\n",
      "2022-04-03 11:37:34,223 : INFO : worker thread finished; awaiting finish of 1 more threads\n",
      "2022-04-03 11:37:34,321 : INFO : worker thread finished; awaiting finish of 0 more threads\n",
      "2022-04-03 11:37:34,323 : INFO : EPOCH - 7 : training on 7758 raw words (5587 effective words) took 0.1s, 46521 effective words/s\n",
      "2022-04-03 11:37:34,351 : INFO : worker thread finished; awaiting finish of 3 more threads\n",
      "2022-04-03 11:37:34,354 : INFO : worker thread finished; awaiting finish of 2 more threads\n",
      "2022-04-03 11:37:34,359 : INFO : worker thread finished; awaiting finish of 1 more threads\n",
      "2022-04-03 11:37:34,468 : INFO : worker thread finished; awaiting finish of 0 more threads\n",
      "2022-04-03 11:37:34,470 : INFO : EPOCH - 8 : training on 7758 raw words (5608 effective words) took 0.1s, 44091 effective words/s\n",
      "2022-04-03 11:37:34,501 : INFO : worker thread finished; awaiting finish of 3 more threads\n",
      "2022-04-03 11:37:34,506 : INFO : worker thread finished; awaiting finish of 2 more threads\n",
      "2022-04-03 11:37:34,510 : INFO : worker thread finished; awaiting finish of 1 more threads\n",
      "2022-04-03 11:37:34,609 : INFO : worker thread finished; awaiting finish of 0 more threads\n",
      "2022-04-03 11:37:34,617 : INFO : EPOCH - 9 : training on 7758 raw words (5648 effective words) took 0.1s, 44921 effective words/s\n",
      "2022-04-03 11:37:34,655 : INFO : worker thread finished; awaiting finish of 3 more threads\n",
      "2022-04-03 11:37:34,658 : INFO : worker thread finished; awaiting finish of 2 more threads\n",
      "2022-04-03 11:37:34,660 : INFO : worker thread finished; awaiting finish of 1 more threads\n",
      "2022-04-03 11:37:34,775 : INFO : worker thread finished; awaiting finish of 0 more threads\n",
      "2022-04-03 11:37:34,776 : INFO : EPOCH - 10 : training on 7758 raw words (5545 effective words) took 0.1s, 42928 effective words/s\n",
      "2022-04-03 11:37:34,779 : INFO : Word2Vec lifecycle event {'msg': 'training on 77580 raw words (55936 effective words) took 1.6s, 35754 effective words/s', 'datetime': '2022-04-03T11:37:34.779552', 'gensim': '4.1.2', 'python': '3.9.7 (default, Sep 16 2021, 16:59:28) [MSC v.1916 64 bit (AMD64)]', 'platform': 'Windows-10-10.0.19043-SP0', 'event': 'train'}\n",
      "2022-04-03 11:37:34,781 : INFO : Word2Vec lifecycle event {'params': 'Word2Vec(vocab=1468, vector_size=300, alpha=0.025)', 'datetime': '2022-04-03T11:37:34.781549', 'gensim': '4.1.2', 'python': '3.9.7 (default, Sep 16 2021, 16:59:28) [MSC v.1916 64 bit (AMD64)]', 'platform': 'Windows-10-10.0.19043-SP0', 'event': 'created'}\n"
     ]
    }
   ],
   "source": [
    "# Initialisation et entrainement du modèle\n",
    "sentences = list(data['tokens_list'])\n",
    "model = gensim.models.Word2Vec(sentences=sentences, vector_size=300, window=5, min_count=1, workers=4, sg=1, epochs=10)"
   ]
  },
  {
   "cell_type": "code",
   "execution_count": 10,
   "id": "550ec9df-62d1-4006-973b-e89841cf4f85",
   "metadata": {},
   "outputs": [],
   "source": [
    "# Suppression du champs tokens_list\n",
    "del data['tokens_list']"
   ]
  },
  {
   "cell_type": "markdown",
   "id": "572d1d08-569a-4763-84c2-14da30d34366",
   "metadata": {},
   "source": [
    "# 5. Top-N-Recommendation"
   ]
  },
  {
   "cell_type": "markdown",
   "id": "06e7f1d8-8fe3-4a35-b0c0-1254d76b58a8",
   "metadata": {
    "tags": []
   },
   "source": [
    "## 5.1. Configurations utiles"
   ]
  },
  {
   "cell_type": "markdown",
   "id": "f1412df6-27af-4e7a-9693-d9bb6475182f",
   "metadata": {},
   "source": [
    "### 5.1.1. Taille de la liste de recommandation"
   ]
  },
  {
   "cell_type": "code",
   "execution_count": 11,
   "id": "f1dbc2c8-c4d4-425a-8239-6881c372f721",
   "metadata": {},
   "outputs": [],
   "source": [
    "N = 10"
   ]
  },
  {
   "cell_type": "markdown",
   "id": "d1687667-7c93-43ce-b69a-999cf43304cc",
   "metadata": {
    "tags": []
   },
   "source": [
    "### 5.1.2. Produit concerné par la recommandation"
   ]
  },
  {
   "cell_type": "code",
   "execution_count": 12,
   "id": "bc642837-3189-43c1-9116-ca07f916bdbd",
   "metadata": {
    "tags": []
   },
   "outputs": [
    {
     "name": "stdout",
     "output_type": "stream",
     "text": [
      "Il y'a en tout : 1655 produits qui sont indexés de 0 à 1654\n"
     ]
    }
   ],
   "source": [
    "# Liste des index des produits\n",
    "print(\"Il y'a en tout :\", len(data.index),\"produits qui sont indexés de 0 à\", len(data.index) - 1 )"
   ]
  },
  {
   "cell_type": "code",
   "execution_count": 13,
   "id": "1998fb14-f579-4bc7-9938-f2cf69e6f56d",
   "metadata": {
    "tags": []
   },
   "outputs": [],
   "source": [
    "i = 798 # Faites varier i pour changer de produit "
   ]
  },
  {
   "cell_type": "markdown",
   "id": "9fbda911-7aee-4adb-846a-e3a7579116b5",
   "metadata": {},
   "source": [
    "## 5.2. Visualisation du produit choisi"
   ]
  },
  {
   "cell_type": "code",
   "execution_count": 14,
   "id": "0161c46a-da96-445c-9806-fd1636fd0fe7",
   "metadata": {},
   "outputs": [],
   "source": [
    "# Création du DataFrame nécessaire pour la visualisation\n",
    "asin = data.iloc[i]['ID'] # Identifiant du produit choisi\n",
    "item_df = data[data['ID'] == asin]\n",
    "item_df = pd.DataFrame(item_df)\n",
    "item_df.rename(columns={'imPath' : 'image'}, inplace=True)"
   ]
  },
  {
   "cell_type": "code",
   "execution_count": 15,
   "id": "caedcef8-9deb-4c4a-acdd-8c083939465b",
   "metadata": {},
   "outputs": [
    {
     "data": {
      "text/html": [
       "<table border=\"1\" class=\"dataframe\">\n",
       "  <thead>\n",
       "    <tr style=\"text-align: right;\">\n",
       "      <th></th>\n",
       "      <th>ID</th>\n",
       "      <th>title</th>\n",
       "      <th>image</th>\n",
       "    </tr>\n",
       "  </thead>\n",
       "  <tbody>\n",
       "    <tr>\n",
       "      <th>798</th>\n",
       "      <td>5710</td>\n",
       "      <td>Robe mini caba en coton et tissus</td>\n",
       "      <td><img src=\"dataset\\images/Fashion Women/Women Blouse and Dress/0171.jpg\" width=\"100px\" ></td>\n",
       "    </tr>\n",
       "  </tbody>\n",
       "</table>"
      ],
      "text/plain": [
       "<IPython.core.display.HTML object>"
      ]
     },
     "execution_count": 15,
     "metadata": {},
     "output_type": "execute_result"
    }
   ],
   "source": [
    " # Rendu de l'images dans le DataFrame item_df\n",
    "HTML(item_df.to_html(escape=False, formatters=dict(image=imUrl_to_image_html_width100)))"
   ]
  },
  {
   "cell_type": "markdown",
   "id": "2e57e66f-1f22-46f7-aa3c-54679971e1e3",
   "metadata": {},
   "source": [
    "## 5.3. Visualisation des produits recommandés à l'utilisateur"
   ]
  },
  {
   "cell_type": "code",
   "execution_count": null,
   "id": "a1802fb6-580d-43c4-9d7a-f02020cd098f",
   "metadata": {},
   "outputs": [],
   "source": [
    "# Détermination des produits à recommander à l'utisateur\n",
    "recommended_products = top_n_recommendation(asin, N, model, data, sim_cosine)"
   ]
  },
  {
   "cell_type": "code",
   "execution_count": 17,
   "id": "7222f47b-7fc4-4ecf-992f-1b6209ed08c7",
   "metadata": {},
   "outputs": [],
   "source": [
    "# Fabrication du DataFrame qui présentera la liste de recommandation\n",
    "similarity_score = []\n",
    "asin = []\n",
    "for i in range(len(recommended_products)):\n",
    "    similarity_score.append(recommended_products[i][0])\n",
    "    asin.append(recommended_products[i][1])\n",
    "\n",
    "recommended_products = pd.DataFrame({\"ID\" : asin, \"cosine_similarity\" : similarity_score})\n",
    "recommended_products = pd.merge(recommended_products, data, how='inner')\n",
    "recommended_products.rename(columns={'imPath' : 'image'}, inplace=True)"
   ]
  },
  {
   "cell_type": "code",
   "execution_count": 18,
   "id": "19a2a45e-15d2-4d4a-8928-6aac4ae7be1f",
   "metadata": {
    "tags": []
   },
   "outputs": [
    {
     "data": {
      "text/html": [
       "<table border=\"1\" class=\"dataframe\">\n",
       "  <thead>\n",
       "    <tr style=\"text-align: right;\">\n",
       "      <th></th>\n",
       "      <th>ID</th>\n",
       "      <th>cosine_similarity</th>\n",
       "      <th>title</th>\n",
       "      <th>image</th>\n",
       "    </tr>\n",
       "  </thead>\n",
       "  <tbody>\n",
       "    <tr>\n",
       "      <th>0</th>\n",
       "      <td>5667</td>\n",
       "      <td>0.999911</td>\n",
       "      <td>Robe mini caba carrelé marié de tissus coton glacé</td>\n",
       "      <td><img src=\"dataset\\images/Fashion Women/Fashion Women Afritude/0065.jpg\" width=\"100px\" ></td>\n",
       "    </tr>\n",
       "    <tr>\n",
       "      <th>1</th>\n",
       "      <td>5823</td>\n",
       "      <td>0.999899</td>\n",
       "      <td>Mini robe jaune collection K.Lessman en coton lourd</td>\n",
       "      <td><img src=\"dataset\\images/Fashion Women/Women Blouse and Dress/077.jpg\" width=\"100px\" ></td>\n",
       "    </tr>\n",
       "    <tr>\n",
       "      <th>2</th>\n",
       "      <td>5834</td>\n",
       "      <td>0.999890</td>\n",
       "      <td>Mini robe PLB évasée en coton couleur bleue avec perles</td>\n",
       "      <td><img src=\"dataset\\images/Fashion Women/Women Blouse and Dress/0126.jpg\" width=\"100px\" ></td>\n",
       "    </tr>\n",
       "    <tr>\n",
       "      <th>3</th>\n",
       "      <td>5835</td>\n",
       "      <td>0.999887</td>\n",
       "      <td>Mini robe évasée coupe princesse PLB couleur rose en coton</td>\n",
       "      <td><img src=\"dataset\\images/Fashion Women/Women Blouse and Dress/0138.jpg\" width=\"100px\" ></td>\n",
       "    </tr>\n",
       "    <tr>\n",
       "      <th>4</th>\n",
       "      <td>5847</td>\n",
       "      <td>0.999874</td>\n",
       "      <td>Mini robe dentelle rose, démembré avec un col arrondi</td>\n",
       "      <td><img src=\"dataset\\images/Fashion Women/Women Blouse and Dress/0162.jpg\" width=\"100px\" ></td>\n",
       "    </tr>\n",
       "    <tr>\n",
       "      <th>5</th>\n",
       "      <td>5861</td>\n",
       "      <td>0.999874</td>\n",
       "      <td>Mini Robe Dame noire fleurie, 100¨% coton dur démembré.</td>\n",
       "      <td><img src=\"dataset\\images/Fashion Women/Women Blouse and Dress/0210.jpg\" width=\"100px\" ></td>\n",
       "    </tr>\n",
       "    <tr>\n",
       "      <th>6</th>\n",
       "      <td>5860</td>\n",
       "      <td>0.999868</td>\n",
       "      <td>Mini Robe Mousseline sexy, couleur blanche avec des motifs imprimés.</td>\n",
       "      <td><img src=\"dataset\\images/Fashion Women/Women Blouse and Dress/0206.jpg\" width=\"100px\" ></td>\n",
       "    </tr>\n",
       "    <tr>\n",
       "      <th>7</th>\n",
       "      <td>5665</td>\n",
       "      <td>0.999866</td>\n",
       "      <td>Robe mini Caba afritude femme fleurie marié de  coton jaune</td>\n",
       "      <td><img src=\"dataset\\images/Fashion Women/Fashion Women Afritude/DSC_0061.jpg\" width=\"100px\" ></td>\n",
       "    </tr>\n",
       "    <tr>\n",
       "      <th>8</th>\n",
       "      <td>5808</td>\n",
       "      <td>0.999860</td>\n",
       "      <td>Mini robe panthère or en coton et à l'élasthanne</td>\n",
       "      <td><img src=\"dataset\\images/Fashion Women/Women Blouse and Dress/0647.jpg\" width=\"100px\" ></td>\n",
       "    </tr>\n",
       "    <tr>\n",
       "      <th>9</th>\n",
       "      <td>5666</td>\n",
       "      <td>0.999858</td>\n",
       "      <td>Robe mini caba afritude Panthère noir et rose marié de coton</td>\n",
       "      <td><img src=\"dataset\\images/Fashion Women/Fashion Women Afritude/0063.jpg\" width=\"100px\" ></td>\n",
       "    </tr>\n",
       "  </tbody>\n",
       "</table>"
      ],
      "text/plain": [
       "<IPython.core.display.HTML object>"
      ]
     },
     "execution_count": 18,
     "metadata": {},
     "output_type": "execute_result"
    }
   ],
   "source": [
    "# Rendu des imagaes dans le DataFrame recommended_products\n",
    "HTML(recommended_products.to_html(escape=False, formatters=dict(image=imUrl_to_image_html_width100)))"
   ]
  }
 ],
 "metadata": {
  "kernelspec": {
   "display_name": "Python 3 (ipykernel)",
   "language": "python",
   "name": "python3"
  },
  "language_info": {
   "codemirror_mode": {
    "name": "ipython",
    "version": 3
   },
   "file_extension": ".py",
   "mimetype": "text/x-python",
   "name": "python",
   "nbconvert_exporter": "python",
   "pygments_lexer": "ipython3",
   "version": "3.9.7"
  }
 },
 "nbformat": 4,
 "nbformat_minor": 5
}
